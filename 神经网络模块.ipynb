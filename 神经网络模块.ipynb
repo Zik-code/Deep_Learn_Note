{
 "cells": [
  {
   "cell_type": "markdown",
   "metadata": {},
   "source": [
    "25.1.24"
   ]
  },
  {
   "cell_type": "markdown",
   "metadata": {
    "vscode": {
     "languageId": "plaintext"
    }
   },
   "source": [
    "pytorch文件中的基础神经网络模块\n",
    "\n",
    "import torch.nn as nn\n",
    "import torch.nn.functional as F\n",
    "\n",
    "class Model(nn.Module):\n",
    "\n",
    "    def __init__(self) -> None:\n",
    "\n",
    "        super().__init__()\n",
    "        \n",
    "        self.conv1 = nn.Conv2d(1, 20, 5)\n",
    "        self.conv2 = nn.Conv2d(20, 20, 5)\n",
    "\n",
    "    def forward(self, x):\n",
    "        x = F.relu(self.conv1(x))\n",
    "        return F.relu(self.conv2(x))"
   ]
  },
  {
   "cell_type": "code",
   "execution_count": 9,
   "metadata": {},
   "outputs": [
    {
     "name": "stdout",
     "output_type": "stream",
     "text": [
      "tensor(2.)\n"
     ]
    }
   ],
   "source": [
    "import torch\n",
    "from torch import nn\n",
    "\n",
    "# 定义一个名为zzy的自定义神经网络模块，继承自nn.Module\n",
    "class zzy(nn.Module):\n",
    "        # 调用父类nn.Module的构造函数\n",
    "        def __init__(self, *args, **kwargs):\n",
    "                super().__init__(*args, **kwargs)\n",
    "    \n",
    "        # 前向传播方法，将输入值加1得到输出\n",
    "        def forward(self,input):\n",
    "                output = input + 1\n",
    "                return output\n",
    "\n",
    "# 创建zzy类的一个实例\n",
    "zzy1 = zzy()\n",
    "# 创建一个值为1.0的张量作为输入\n",
    "input1 = torch.tensor(1.0)\n",
    "# 调用zzy1实例，自动执行forward方法得到输出\n",
    "output1 = zzy1(input1)\n",
    "# 打印输出结果\n",
    "print(output1)\n"
   ]
  },
  {
   "cell_type": "code",
   "execution_count": null,
   "metadata": {},
   "outputs": [],
   "source": []
  }
 ],
 "metadata": {
  "kernelspec": {
   "display_name": "py312",
   "language": "python",
   "name": "python3"
  },
  "language_info": {
   "codemirror_mode": {
    "name": "ipython",
    "version": 3
   },
   "file_extension": ".py",
   "mimetype": "text/x-python",
   "name": "python",
   "nbconvert_exporter": "python",
   "pygments_lexer": "ipython3",
   "version": "3.12.8"
  }
 },
 "nbformat": 4,
 "nbformat_minor": 2
}
