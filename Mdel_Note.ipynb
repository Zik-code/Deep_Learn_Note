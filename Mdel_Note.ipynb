{
 "cells": [
  {
   "cell_type": "markdown",
   "metadata": {},
   "source": [
    "# Goodenote笔记\n"
   ]
  },
  {
   "cell_type": "markdown",
   "metadata": {},
   "source": [
    "<div style=\"display: flex; gap: 10px;\"> <!-- gap 可选，用于设置图片间距 -->\n",
    "  <img src=\"Note_imags\\20cb3fab90662d544749a844b693811.jpg\" width=\"50%\">\n",
    "  <img src=\"Note_imags\\75205aceacdb2f2d3013986ef7ec5fb.jpg\" width=\"50%\">\n",
    "</div>\n",
    "<div style=\"display: flex; gap: 10px;\"> <!-- gap 可选，用于设置图片间距 -->\n",
    "  <img src=\"Note_imags\\972813a89c2405c9b68ea790980e7b3.jpg\" width=\"50%\">\n",
    "  <img src=\"Note_imags\\ac1ec5c09b5802d3b1df3d86215b931.jpg\" width=\"50%\">\n",
    "</div>"
   ]
  },
  {
   "cell_type": "markdown",
   "metadata": {},
   "source": [
    "## RNN模型的输入数据格式\n",
    "\n",
    "Input_shape=(samples,time_steps,features)\n",
    "- samples:样本数量(模型根据输入数据自动计算)\n",
    "- time_steps:序列的长度,即用多少个连续样本预测一个输出\n",
    "- features:样本的特征维数([0,0,1]对应为3)\n",
    "\n",
    "\n",
    ">假设股票数据样本有100个,每次用8条数据预测第9条,股票数据为单维度数值,要求输入数据的shape为(100,8,1)\n"
   ]
  },
  {
   "cell_type": "markdown",
   "metadata": {},
   "source": [
    "### 实战一：股价预测\n",
    "#### 任务:基于zgpa_train.csv数据,建立RNN模型,预测股价:\n",
    "1. 完成数据预处理,将序列数据转化为可用子RNN输入的数据\n",
    "2. 对新数据zgpa_test.csv进行预测,可视化结果\n",
    "3. 存储预测结果,并观察局部预测结果\n",
    "- 模型结构:单层RNN 输出有5个神经元\n",
    "- 每次使用前8个数据预测第9个数据\n",
    "<img src=\"Note_imags\\image.png\" width=\"100%\">"
   ]
  },
  {
   "cell_type": "markdown",
   "metadata": {},
   "source": [
    "#### 核心代码"
   ]
  },
  {
   "cell_type": "code",
   "execution_count": 1,
   "metadata": {},
   "outputs": [],
   "source": [
    "#提取序列数据\n",
    "\n",
    "def extract_data(data, slide):\n",
    "    X = []\n",
    "    y = []\n",
    "    for i in range(len(data) - slide):\n",
    "        x.append([a for a in data[i:i+slide]])\n",
    "        y.append(data[i+slide])\n",
    "    x = np.array(x)\n",
    "    x = x.reshape(x.shape[0],x.shape[1],1)\n",
    "    return X,Y"
   ]
  },
  {
   "cell_type": "code",
   "execution_count": 2,
   "metadata": {},
   "outputs": [
    {
     "ename": "ModuleNotFoundError",
     "evalue": "No module named 'keras'",
     "output_type": "error",
     "traceback": [
      "\u001b[1;31m---------------------------------------------------------------------------\u001b[0m",
      "\u001b[1;31mModuleNotFoundError\u001b[0m                       Traceback (most recent call last)",
      "Cell \u001b[1;32mIn[2], line 3\u001b[0m\n\u001b[0;32m      1\u001b[0m \u001b[38;5;66;03m# 建立普通RNN模型:\u001b[39;00m\n\u001b[1;32m----> 3\u001b[0m \u001b[38;5;28;01mfrom\u001b[39;00m\u001b[38;5;250m \u001b[39m\u001b[38;5;21;01mkeras\u001b[39;00m\u001b[38;5;21;01m.\u001b[39;00m\u001b[38;5;21;01mmodels\u001b[39;00m\u001b[38;5;250m \u001b[39m\u001b[38;5;28;01mimport\u001b[39;00m Sequential\n\u001b[0;32m      4\u001b[0m \u001b[38;5;28;01mfrom\u001b[39;00m\u001b[38;5;250m \u001b[39m\u001b[38;5;21;01mkeras\u001b[39;00m\u001b[38;5;21;01m.\u001b[39;00m\u001b[38;5;21;01mlayers\u001b[39;00m\u001b[38;5;250m \u001b[39m\u001b[38;5;28;01mimport\u001b[39;00m Dense, SimpleRNN\n\u001b[0;32m      5\u001b[0m model \u001b[38;5;241m=\u001b[39m Sequential()\n",
      "\u001b[1;31mModuleNotFoundError\u001b[0m: No module named 'keras'"
     ]
    }
   ],
   "source": [
    "# 建立普通RNN模型:\n",
    "\n",
    "from keras.models import Sequential\n",
    "from keras.layers import Dense, SimpleRNN\n",
    "model = Sequential()\n",
    "#增加一个RNN层\n",
    "model.add(SimpleRNN(units=5,\n",
    "input_shape = (X.shape[1],X.shape[2]),\n",
    "activation= relu ))\n",
    "#增加输出层\n",
    "model.add(Dense(units=1,activation='linear'))\n",
    "model.compile(optimizer='adam' ,\n",
    "loss='mean_squared_error')"
   ]
  },
  {
   "cell_type": "markdown",
   "metadata": {},
   "source": [
    "<img src=\"Note_imags\\image1.png\" width=\"100%\">"
   ]
  },
  {
   "cell_type": "code",
   "execution_count": null,
   "metadata": {},
   "outputs": [],
   "source": [
    "# 文本加载\n",
    "raw_data = open('flare').read()\n",
    "# 移除换行符\n",
    "data = raw_data.replace('\\n','').replace('\\r','')\n",
    "# 字符字典的建立\n",
    "# 字符去重\n",
    "letters = list(set(data))\n",
    "# 0:a,1:b,2:c----------\n",
    "# 建立数字到字符的索引\n",
    "int_to_char = {a:b for a,b in enumerate(letters)}\n",
    "# 建立字符到数字的索引\n",
    "int_to_char = {b:a for a,b in enumerate(letters)}"
   ]
  }
 ],
 "metadata": {
  "kernelspec": {
   "display_name": "gpy",
   "language": "python",
   "name": "python3"
  },
  "language_info": {
   "codemirror_mode": {
    "name": "ipython",
    "version": 3
   },
   "file_extension": ".py",
   "mimetype": "text/x-python",
   "name": "python",
   "nbconvert_exporter": "python",
   "pygments_lexer": "ipython3",
   "version": "3.12.9"
  }
 },
 "nbformat": 4,
 "nbformat_minor": 2
}
