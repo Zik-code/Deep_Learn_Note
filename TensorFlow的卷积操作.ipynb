{
 "cells": [
  {
   "cell_type": "markdown",
   "metadata": {
    "vscode": {
     "languageId": "plaintext"
    }
   },
   "source": [
    "类的方式，和pytorch中类似"
   ]
  },
  {
   "cell_type": "code",
   "execution_count": 6,
   "metadata": {},
   "outputs": [
    {
     "data": {
      "text/html": [
       "<pre style=\"white-space:pre;overflow-x:auto;line-height:normal;font-family:Menlo,'DejaVu Sans Mono',consolas,'Courier New',monospace\"><span style=\"font-weight: bold\">Model: \"my_module_4\"</span>\n",
       "</pre>\n"
      ],
      "text/plain": [
       "\u001b[1mModel: \"my_module_4\"\u001b[0m\n"
      ]
     },
     "metadata": {},
     "output_type": "display_data"
    },
    {
     "data": {
      "text/html": [
       "<pre style=\"white-space:pre;overflow-x:auto;line-height:normal;font-family:Menlo,'DejaVu Sans Mono',consolas,'Courier New',monospace\">┏━━━━━━━━━━━━━━━━━━━━━━━━━━━━━━━━━┳━━━━━━━━━━━━━━━━━━━━━━━━┳━━━━━━━━━━━━━━━┓\n",
       "┃<span style=\"font-weight: bold\"> Layer (type)                    </span>┃<span style=\"font-weight: bold\"> Output Shape           </span>┃<span style=\"font-weight: bold\">       Param # </span>┃\n",
       "┡━━━━━━━━━━━━━━━━━━━━━━━━━━━━━━━━━╇━━━━━━━━━━━━━━━━━━━━━━━━╇━━━━━━━━━━━━━━━┩\n",
       "│ layer1 (<span style=\"color: #0087ff; text-decoration-color: #0087ff\">Dense</span>)                  │ (<span style=\"color: #00af00; text-decoration-color: #00af00\">1</span>, <span style=\"color: #00af00; text-decoration-color: #00af00\">3</span>)                 │            <span style=\"color: #00af00; text-decoration-color: #00af00\">12</span> │\n",
       "├─────────────────────────────────┼────────────────────────┼───────────────┤\n",
       "│ layer2 (<span style=\"color: #0087ff; text-decoration-color: #0087ff\">Dense</span>)                  │ (<span style=\"color: #00af00; text-decoration-color: #00af00\">1</span>, <span style=\"color: #00af00; text-decoration-color: #00af00\">3</span>)                 │            <span style=\"color: #00af00; text-decoration-color: #00af00\">12</span> │\n",
       "├─────────────────────────────────┼────────────────────────┼───────────────┤\n",
       "│ layer3 (<span style=\"color: #0087ff; text-decoration-color: #0087ff\">Dense</span>)                  │ (<span style=\"color: #00af00; text-decoration-color: #00af00\">1</span>, <span style=\"color: #00af00; text-decoration-color: #00af00\">3</span>)                 │            <span style=\"color: #00af00; text-decoration-color: #00af00\">12</span> │\n",
       "└─────────────────────────────────┴────────────────────────┴───────────────┘\n",
       "</pre>\n"
      ],
      "text/plain": [
       "┏━━━━━━━━━━━━━━━━━━━━━━━━━━━━━━━━━┳━━━━━━━━━━━━━━━━━━━━━━━━┳━━━━━━━━━━━━━━━┓\n",
       "┃\u001b[1m \u001b[0m\u001b[1mLayer (type)                   \u001b[0m\u001b[1m \u001b[0m┃\u001b[1m \u001b[0m\u001b[1mOutput Shape          \u001b[0m\u001b[1m \u001b[0m┃\u001b[1m \u001b[0m\u001b[1m      Param #\u001b[0m\u001b[1m \u001b[0m┃\n",
       "┡━━━━━━━━━━━━━━━━━━━━━━━━━━━━━━━━━╇━━━━━━━━━━━━━━━━━━━━━━━━╇━━━━━━━━━━━━━━━┩\n",
       "│ layer1 (\u001b[38;5;33mDense\u001b[0m)                  │ (\u001b[38;5;34m1\u001b[0m, \u001b[38;5;34m3\u001b[0m)                 │            \u001b[38;5;34m12\u001b[0m │\n",
       "├─────────────────────────────────┼────────────────────────┼───────────────┤\n",
       "│ layer2 (\u001b[38;5;33mDense\u001b[0m)                  │ (\u001b[38;5;34m1\u001b[0m, \u001b[38;5;34m3\u001b[0m)                 │            \u001b[38;5;34m12\u001b[0m │\n",
       "├─────────────────────────────────┼────────────────────────┼───────────────┤\n",
       "│ layer3 (\u001b[38;5;33mDense\u001b[0m)                  │ (\u001b[38;5;34m1\u001b[0m, \u001b[38;5;34m3\u001b[0m)                 │            \u001b[38;5;34m12\u001b[0m │\n",
       "└─────────────────────────────────┴────────────────────────┴───────────────┘\n"
      ]
     },
     "metadata": {},
     "output_type": "display_data"
    },
    {
     "data": {
      "text/html": [
       "<pre style=\"white-space:pre;overflow-x:auto;line-height:normal;font-family:Menlo,'DejaVu Sans Mono',consolas,'Courier New',monospace\"><span style=\"font-weight: bold\"> Total params: </span><span style=\"color: #00af00; text-decoration-color: #00af00\">36</span> (144.00 B)\n",
       "</pre>\n"
      ],
      "text/plain": [
       "\u001b[1m Total params: \u001b[0m\u001b[38;5;34m36\u001b[0m (144.00 B)\n"
      ]
     },
     "metadata": {},
     "output_type": "display_data"
    },
    {
     "data": {
      "text/html": [
       "<pre style=\"white-space:pre;overflow-x:auto;line-height:normal;font-family:Menlo,'DejaVu Sans Mono',consolas,'Courier New',monospace\"><span style=\"font-weight: bold\"> Trainable params: </span><span style=\"color: #00af00; text-decoration-color: #00af00\">36</span> (144.00 B)\n",
       "</pre>\n"
      ],
      "text/plain": [
       "\u001b[1m Trainable params: \u001b[0m\u001b[38;5;34m36\u001b[0m (144.00 B)\n"
      ]
     },
     "metadata": {},
     "output_type": "display_data"
    },
    {
     "data": {
      "text/html": [
       "<pre style=\"white-space:pre;overflow-x:auto;line-height:normal;font-family:Menlo,'DejaVu Sans Mono',consolas,'Courier New',monospace\"><span style=\"font-weight: bold\"> Non-trainable params: </span><span style=\"color: #00af00; text-decoration-color: #00af00\">0</span> (0.00 B)\n",
       "</pre>\n"
      ],
      "text/plain": [
       "\u001b[1m Non-trainable params: \u001b[0m\u001b[38;5;34m0\u001b[0m (0.00 B)\n"
      ]
     },
     "metadata": {},
     "output_type": "display_data"
    }
   ],
   "source": [
    "import tensorflow as tf\n",
    "\n",
    "class MyModule(tf.keras.Model):\n",
    "    def __init__(self):\n",
    "        super(MyModule, self).__init__()\n",
    "        # 定义第一层全连接层，有 3 个神经元，使用 ReLU 激活函数，\n",
    "        # 权重初始化采用 He 正态分布初始化方法，层名为 'layer1'\n",
    "        self.layer1 = tf.keras.layers.Dense(3, activation='relu', kernel_initializer='he_normal', name='layer1', input_shape=(3,))\n",
    "        # 定义第二层全连接层，有 3 个神经元，使用 ReLU 激活函数，\n",
    "        # 权重初始化采用 He 正态分布初始化方法，层名为 'layer2'\n",
    "        self.layer2 = tf.keras.layers.Dense(3, activation='relu', kernel_initializer='he_normal', name='layer2')\n",
    "        # 定义第三层全连接层，有 3 个神经元，使用 ReLU 激活函数，\n",
    "        # 权重初始化采用 He 正态分布初始化方法，层名为 'layer3'\n",
    "        self.layer3 = tf.keras.layers.Dense(3, activation='relu', kernel_initializer='he_normal', name='layer3')\n",
    "\n",
    "    def call(self, inputs):\n",
    "        # 前向传播，输入数据依次通过第一层、第二层和第三层\n",
    "        x = self.layer1(inputs)\n",
    "        x = self.layer2(x)\n",
    "        return self.layer3(x)\n",
    "\n",
    "# 创建 MyModule 类的一个实例\n",
    "MyModule1 = MyModule()\n",
    "# 定义一个形状为 (1, 3) 的全 1 张量作为输入\n",
    "x = tf.ones((1, 3))\n",
    "# 将输入数据传入模型进行前向传播得到输出\n",
    "y = MyModule1(x)\n",
    "\n",
    "# 由于使用子类化 API 定义的模型在调用 summary 方法前需要先构建模型\n",
    "# 这里通过指定输入形状来构建模型\n",
    "MyModule1.build(input_shape=(None, 3))\n",
    "# 调用 summary 方法展示模型的结构信息\n",
    "MyModule1.summary()"
   ]
  },
  {
   "cell_type": "code",
   "execution_count": null,
   "metadata": {},
   "outputs": [
    {
     "ename": "ModuleNotFoundError",
     "evalue": "No module named 'torchsummary'",
     "output_type": "error",
     "traceback": [
      "\u001b[1;31m---------------------------------------------------------------------------\u001b[0m",
      "\u001b[1;31mModuleNotFoundError\u001b[0m                       Traceback (most recent call last)",
      "Cell \u001b[1;32mIn[8], line 3\u001b[0m\n\u001b[0;32m      1\u001b[0m \u001b[38;5;28;01mimport\u001b[39;00m\u001b[38;5;250m \u001b[39m\u001b[38;5;21;01mtorch\u001b[39;00m\n\u001b[0;32m      2\u001b[0m \u001b[38;5;28;01mimport\u001b[39;00m\u001b[38;5;250m \u001b[39m\u001b[38;5;21;01mtorch\u001b[39;00m\u001b[38;5;21;01m.\u001b[39;00m\u001b[38;5;21;01mnn\u001b[39;00m\u001b[38;5;250m \u001b[39m\u001b[38;5;28;01mas\u001b[39;00m\u001b[38;5;250m \u001b[39m\u001b[38;5;21;01mnn\u001b[39;00m\n\u001b[1;32m----> 3\u001b[0m \u001b[38;5;28;01mfrom\u001b[39;00m\u001b[38;5;250m \u001b[39m\u001b[38;5;21;01mtorchsummary\u001b[39;00m\u001b[38;5;250m \u001b[39m\u001b[38;5;28;01mimport\u001b[39;00m summary\n\u001b[0;32m      5\u001b[0m \u001b[38;5;66;03m# 定义自定义的神经网络模块\u001b[39;00m\n\u001b[0;32m      6\u001b[0m \u001b[38;5;28;01mclass\u001b[39;00m\u001b[38;5;250m \u001b[39m\u001b[38;5;21;01mMyModule\u001b[39;00m(nn\u001b[38;5;241m.\u001b[39mModule):\n",
      "\u001b[1;31mModuleNotFoundError\u001b[0m: No module named 'torchsummary'"
     ]
    }
   ],
   "source": [
    "# import torch\n",
    "# import torch.nn as nn\n",
    "# from torchsummary import summary\n",
    "\n",
    "# # 定义自定义的神经网络模块\n",
    "# class MyModule(nn.Module):\n",
    "#     def __init__(self):\n",
    "#         super(MyModule, self).__init__()\n",
    "#         # 定义第一层全连接层，输入维度为 3，输出维度为 3，使用 ReLU 激活函数\n",
    "#         self.layer1 = nn.Sequential(\n",
    "#             nn.Linear(3, 3),\n",
    "#             nn.ReLU()\n",
    "#         )\n",
    "#         # 定义第二层全连接层，输入维度为 3，输出维度为 3，使用 ReLU 激活函数\n",
    "#         self.layer2 = nn.Sequential(\n",
    "#             nn.Linear(3, 3),\n",
    "#             nn.ReLU()\n",
    "#         )\n",
    "#         # 定义第三层全连接层，输入维度为 3，输出维度为 3，使用 ReLU 激活函数\n",
    "#         self.layer3 = nn.Sequential(\n",
    "#             nn.Linear(3, 3),\n",
    "#             nn.ReLU()\n",
    "#         )\n",
    "\n",
    "#     def forward(self, x):\n",
    "#         # 前向传播，输入数据依次通过第一层、第二层和第三层\n",
    "#         x = self.layer1(x)\n",
    "#         x = self.layer2(x)\n",
    "#         return self.layer3(x)\n",
    "\n",
    "# # 创建 MyModule 类的一个实例\n",
    "# MyModule1 = MyModule()\n",
    "\n",
    "# # 定义一个形状为 (1, 3) 的全 1 张量作为输入\n",
    "# x = torch.ones((1, 3))\n",
    "# # 将输入数据传入模型进行前向传播得到输出\n",
    "# y = MyModule1(x)\n",
    "\n",
    "# # 展示模型的结构信息\n",
    "# # 首先需要指定设备，这里假设使用 CPU\n",
    "# device = torch.device(\"cuda\" if torch.cuda.is_available() else \"cpu\")\n",
    "# MyModule1.to(device)\n",
    "# # 使用 torchsummary 展示模型结构，输入尺寸为 (3,)\n",
    "# summary(MyModule1, input_size=(3,))"
   ]
  },
  {
   "cell_type": "markdown",
   "metadata": {},
   "source": [
    "理解什么是像素"
   ]
  },
  {
   "cell_type": "code",
   "execution_count": null,
   "metadata": {},
   "outputs": [
    {
     "data": {
      "image/png": "[encoded data removed]",
      "text/plain": [
       "<Figure size 640x480 with 1 Axes>"
      ]
     },
     "metadata": {},
     "output_type": "display_data"
    },
    {
     "name": "stdout",
     "output_type": "stream",
     "text": [
      "图像的像素值：\n",
      "[[  0 128 255]\n",
      " [ 64 192  32]\n",
      " [220  80 150]]\n"
     ]
    }
   ],
   "source": [
    "import numpy as np\n",
    "import matplotlib.pyplot as plt\n",
    "\n",
    "# 创建一个 3x3 的黑白图像，每个像素的灰度值用 0 - 255 表示\n",
    "image = np.array([\n",
    "    [0, 128, 255],\n",
    "    [64, 192, 32],\n",
    "    [220, 80, 150]\n",
    "], dtype=np.uint8)\n",
    "\n",
    "# 显示图像\n",
    "plt.imshow(image, cmap='gray', vmin=0, vmax=255)\n",
    "plt.show()\n",
    "\n",
    "# 查看像素值\n",
    "print(\"图像的像素值：\")\n",
    "print(image)"
   ]
  },
  {
   "cell_type": "code",
   "execution_count": 2,
   "metadata": {},
   "outputs": [
    {
     "data": {
      "image/png": "[encoded data removed]",
      "text/plain": [
       "<Figure size 640x480 with 1 Axes>"
      ]
     },
     "metadata": {},
     "output_type": "display_data"
    },
    {
     "name": "stdout",
     "output_type": "stream",
     "text": [
      "图像的像素值：\n",
      "[[[255   0   0]\n",
      "  [  0 255   0]\n",
      "  [  0   0 255]]\n",
      "\n",
      " [[128 128   0]\n",
      "  [128   0 128]\n",
      "  [  0 128 128]]\n",
      "\n",
      " [[255 255   0]\n",
      "  [255   0 255]\n",
      "  [  0 255 255]]]\n"
     ]
    }
   ],
   "source": [
    "import numpy as np\n",
    "import matplotlib.pyplot as plt\n",
    "\n",
    "# 创建一个 3x3 的彩色图像，每个像素由 RGB 三个通道组成\n",
    "# 这里我们手动设置每个像素的 RGB 值\n",
    "image = np.array([\n",
    "    [[255, 0, 0], [0, 255, 0], [0, 0, 255]],\n",
    "    [[128, 128, 0], [128, 0, 128], [0, 128, 128]],\n",
    "    [[255, 255, 0], [255, 0, 255], [0, 255, 255]]\n",
    "], dtype=np.uint8)\n",
    "\n",
    "# 显示图像\n",
    "plt.imshow(image)\n",
    "plt.show()\n",
    "\n",
    "# 查看像素值\n",
    "print(\"图像的像素值：\")\n",
    "print(image)"
   ]
  }
 ],
 "metadata": {
  "kernelspec": {
   "display_name": "py312",
   "language": "python",
   "name": "python3"
  },
  "language_info": {
   "codemirror_mode": {
    "name": "ipython",
    "version": 3
   },
   "file_extension": ".py",
   "mimetype": "text/x-python",
   "name": "python",
   "nbconvert_exporter": "python",
   "pygments_lexer": "ipython3",
   "version": "3.12.8"
  }
 },
 "nbformat": 4,
 "nbformat_minor": 2
}
