{
 "cells": [
  {
   "cell_type": "markdown",
   "metadata": {},
   "source": [
    "25.1.28"
   ]
  },
  {
   "cell_type": "markdown",
   "metadata": {},
   "source": [
    "    ReLU小于0的会处理为0"
   ]
  },
  {
   "cell_type": "code",
   "execution_count": 8,
   "metadata": {},
   "outputs": [
    {
     "name": "stdout",
     "output_type": "stream",
     "text": [
      "tensor([[[[0.0000, 0.5000],\n",
      "          [1.0000, 1.5000]]]])\n"
     ]
    }
   ],
   "source": [
    "import torch\n",
    "from torch import nn\n",
    "from torch.nn import ReLU\n",
    "\n",
    "input = torch.tensor([\n",
    "    [-1,0.5],\n",
    "    [1,1.5]])\n",
    "\n",
    "input = torch.reshape(input,(-1,1,2,2))\n",
    "\n",
    "class zzy(nn.Module):\n",
    "    def __init__(self):\n",
    "        super(zzy,self).__init__()\n",
    "        self.relu1 = ReLU()\n",
    "\n",
    "    def forward(self,input):\n",
    "        output = self.relu1(input)\n",
    "        return output\n",
    "\n",
    "zzy1 = zzy()\n",
    "\n",
    "output = zzy1(input)\n",
    "print(output)"
   ]
  },
  {
   "cell_type": "code",
   "execution_count": null,
   "metadata": {},
   "outputs": [],
   "source": [
    "import torch\n",
    "import torchvision\n",
    "# 从 torchvision 的转换模块中导入 ToTensor 类，用于将图像数据转换为张量\n",
    "from torchvision.transforms import ToTensor\n",
    "# 从 torch 的神经网络模块中导入必要的类\n",
    "from torch.nn import Module, ReLU,Sigmoid\n",
    "# 从 torch 的数据加载器模块中导入 DataLoader 类，用于批量加载数据\n",
    "from torch.utils.data import DataLoader\n",
    "# 从 torch 的可视化工具模块中导入 SummaryWriter 类，用于将训练过程中的数据写入 TensorBoard\n",
    "from torch.utils.tensorboard import SummaryWriter\n",
    "\n",
    "# 卷积操作\n",
    "\n",
    "# 加载 CIFAR-10 数据集\n",
    "# root 参数指定数据集的存储路径，这里设置为 './dataset'，表示在当前目录下的 dataset 文件夹中存储数据集\n",
    "# train=False 表示加载测试集，CIFAR-10 数据集分为训练集和测试集，这里选择测试集\n",
    "# transform=ToTensor() 表示将图像数据转换为张量，方便后续的神经网络处理\n",
    "# download=False 表示如果数据集不存在则不进行下载，需要确保数据集已经存在于指定路径\n",
    "dataset = torchvision.datasets.CIFAR10(root='./dataset', train=False, transform=ToTensor(), download=False)\n",
    "\n",
    "# 使用 DataLoader 批量加载数据集\n",
    "# batch_size=64 表示每个批次包含 64 个样本，就像我们把一叠书（数据集）分成一捆一捆的，每捆有 64 本\n",
    "dataloader = DataLoader(dataset, batch_size=64)\n",
    "\n",
    "# 定义一个自定义的神经网络模块 zzy，继承自 nn.Module\n",
    "# nn.Module 是 PyTorch 中所有神经网络模块的基类，就像一个大的工具箱，我们要在这个工具箱的基础上创建自己的小工具\n",
    "class zzy(Module):\n",
    "    def __init__(self):\n",
    "        # 调用父类的构造函数进行初始化，就像我们在制作小工具之前，先把大工具箱里的基本功能准备好\n",
    "        super(zzy, self).__init__()\n",
    "        \n",
    "        self.sigmoid1 = Sigmoid()\n",
    "        self.relu1 = ReLU()\n",
    "\n",
    "    def forward(self, x):\n",
    "        x = self.Sigmoid1(x)\n",
    "        return x\n",
    "\n",
    "# 创建 zzy 类的一个实例\n",
    "# 这就像我们根据设计好的小工具图纸，制作出了一个实际可用的小工具\n",
    "zzy1 = zzy()\n",
    "writer = SummaryWriter('/logs')\n",
    "\n",
    "# 初始化一个计数器，用于记录当前处理的批次数量\n",
    "step = 0\n",
    "\n",
    "# 遍历数据加载器中的每个批次的数据\n",
    "# 就像我们一捆一捆地处理书，每次处理一捆\n",
    "for data in dataloader:\n",
    "    # 从批次数据中解包出图像数据和对应的标签\n",
    "    # 可以想象成我们从一捆书中挑出了书（图像）和书的编号（标签）\n",
    "    imgs, targets = data\n",
    "    # 将图像数据输入到我们创建的神经网络模块中进行处理，得到输出\n",
    "    # 就像把书放进小工具里进行加工，得到新的结果\n",
    "    output = zzy1(imgs)\n",
    "    \n",
    "    writer.add_images('input', imgs, step)\n",
    "\n",
    "    # 使用 SummaryWriter 将调整形状后的输出特征图写入 TensorBoard，方便我们可视化处理后的结果\n",
    "    # 就像记录员把加工后的书也拍了张照片，存起来供我们查看\n",
    "    writer.add_images('output', output, step)\n",
    "\n",
    "    # 批次计数器加 1，表示处理完了一个批次\n",
    "    step += 1\n",
    "\n",
    "# 关闭 SummaryWriter，就像记录员完成了工作，把本子合上\n",
    "writer.close()"
   ]
  }
 ],
 "metadata": {
  "kernelspec": {
   "display_name": "py312",
   "language": "python",
   "name": "python3"
  },
  "language_info": {
   "codemirror_mode": {
    "name": "ipython",
    "version": 3
   },
   "file_extension": ".py",
   "mimetype": "text/x-python",
   "name": "python",
   "nbconvert_exporter": "python",
   "pygments_lexer": "ipython3",
   "version": "3.12.8"
  }
 },
 "nbformat": 4,
 "nbformat_minor": 2
}
