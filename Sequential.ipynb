{
 "cells": [
  {
   "cell_type": "markdown",
   "metadata": {
    "vscode": {
     "languageId": "plaintext"
    }
   },
   "source": [
    "24.1.27"
   ]
  },
  {
   "cell_type": "markdown",
   "metadata": {
    "vscode": {
     "languageId": "plaintext"
    }
   },
   "source": [
    "在 PyTorch 里，nn.Sequential 是一个实用的容器模块，它能按顺序将多个神经网络层组合起来，\n",
    "\n",
    "让模型的构建与定义更加简洁和高效\n",
    "\n",
    "基本概念\n",
    "\n",
    "nn.Sequential 属于 nn.Module 的子类，它会按照传入模块的先后顺序依次执行前向传播。\n",
    "\n",
    "在构建神经网络时，我们通常要把多个不同的层（如卷积层、激活函数层、池化层等）组合在一起，\n",
    "\n",
    "nn.Sequential 可以把这些层封装成一个整体，从而简化模型的定义与调用。"
   ]
  },
  {
   "cell_type": "markdown",
   "metadata": {},
   "source": [
    "#### 下面为不使用sequential的较冗长的神经网络的搭建"
   ]
  },
  {
   "cell_type": "code",
   "execution_count": 14,
   "metadata": {},
   "outputs": [
    {
     "name": "stdout",
     "output_type": "stream",
     "text": [
      "zzy(\n",
      "  (conv1): Conv2d(3, 32, kernel_size=(5, 5), stride=(1, 1), padding=(2, 2))\n",
      "  (maxpool1): MaxPool2d(kernel_size=2, stride=2, padding=0, dilation=1, ceil_mode=False)\n",
      "  (conv2): Conv2d(32, 32, kernel_size=(5, 5), stride=(1, 1), padding=(2, 2))\n",
      "  (maxpool2): MaxPool2d(kernel_size=2, stride=2, padding=0, dilation=1, ceil_mode=False)\n",
      "  (conv3): Conv2d(32, 64, kernel_size=(5, 5), stride=(1, 1), padding=(2, 2))\n",
      "  (maxpool3): MaxPool2d(kernel_size=2, stride=2, padding=0, dilation=1, ceil_mode=False)\n",
      "  (flatten): Flatten(start_dim=1, end_dim=-1)\n",
      "  (linear1): Linear(in_features=1024, out_features=64, bias=True)\n",
      "  (linear2): Linear(in_features=64, out_features=10, bias=True)\n",
      ")\n",
      "torch.Size([32, 10])\n"
     ]
    }
   ],
   "source": [
    "import torch\n",
    "from torch import nn\n",
    "from torch.nn import Conv2d\n",
    "from torch.nn import MaxPool2d\n",
    "from torch.nn import Flatten\n",
    "from torch.nn import Linear\n",
    "\n",
    "class zzy(nn.Module):\n",
    "    def __init__(self):\n",
    "        super(zzy,self).__init__()\n",
    "        # 输入通道数为3，输出通道数为32，卷积核大小为5*5,\n",
    "        self.conv1 = Conv2d(3,32,5,stride=1,padding=2)\n",
    "        self.maxpool1 = MaxPool2d(2)\n",
    "        self.conv2 = Conv2d(32,32,5,stride=1,padding=2)\n",
    "        self.maxpool2 = MaxPool2d(2)\n",
    "        self.conv3 = Conv2d(32,64,5,stride=1,padding=2)\n",
    "        self.maxpool3 = MaxPool2d(2)\n",
    "        self.flatten  = Flatten()\n",
    "        # 输入神经元数量为64*4*4,输出神经元数量64\n",
    "        self.linear1 = Linear(64*4*4,64)\n",
    "        self.linear2 = Linear(64,10)\n",
    " \n",
    "\n",
    "    def forward(self,x):\n",
    "        x = self.conv1(x)\n",
    "        x = self.maxpool1(x)\n",
    "        x = self.conv2(x)\n",
    "        x = self.maxpool2(x)\n",
    "        x = self.conv3(x)\n",
    "        x = self.maxpool3(x)\n",
    "        x = self.flatten(x)\n",
    "        # 如果不知道flatten后的图片大小，把后面的代码注释掉输出 查看形状\n",
    "        x = self.linear1(x)\n",
    "        x = self.linear2(x)\n",
    "        return x\n",
    "\n",
    "\n",
    "zzy1 =zzy()\n",
    "\n",
    "print(zzy1)\n",
    "\n",
    "# 如何检查搭建的网络正确性\n",
    "# 一批有64张图片，通道数为3，高和宽都为32\n",
    "input1 = torch.ones(64,3,32,32)\n",
    "\n",
    "output = zzy1(input1)\n",
    "\n",
    "print(output.shape)\n",
    "\n"
   ]
  },
  {
   "cell_type": "code",
   "execution_count": null,
   "metadata": {},
   "outputs": [],
   "source": [
    "import torch\n",
    "from torch import nn\n",
    "from torch.nn import Conv2d\n",
    "from torch.nn import MaxPool2d\n",
    "\n",
    "Conv2d?\n",
    "MaxPool2d?\n"
   ]
  },
  {
   "cell_type": "code",
   "execution_count": 24,
   "metadata": {},
   "outputs": [
    {
     "name": "stdout",
     "output_type": "stream",
     "text": [
      "zzy(\n",
      "  (model1): Sequential(\n",
      "    (0): Conv2d(3, 32, kernel_size=(5, 5), stride=(1, 1), padding=(2, 2))\n",
      "    (1): MaxPool2d(kernel_size=2, stride=2, padding=0, dilation=1, ceil_mode=False)\n",
      "    (2): Conv2d(32, 32, kernel_size=(5, 5), stride=(1, 1), padding=(2, 2))\n",
      "    (3): MaxPool2d(kernel_size=2, stride=2, padding=0, dilation=1, ceil_mode=False)\n",
      "    (4): Conv2d(32, 64, kernel_size=(5, 5), stride=(1, 1), padding=(2, 2))\n",
      "    (5): MaxPool2d(kernel_size=2, stride=2, padding=0, dilation=1, ceil_mode=False)\n",
      "    (6): Flatten(start_dim=1, end_dim=-1)\n",
      "    (7): Linear(in_features=1024, out_features=64, bias=True)\n",
      "    (8): Linear(in_features=64, out_features=10, bias=True)\n",
      "  )\n",
      ")\n",
      "torch.Size([64, 10])\n"
     ]
    }
   ],
   "source": [
    "import torch\n",
    "from torch import nn\n",
    "from torch.nn import Conv2d, MaxPool2d, Flatten,Linear,Sequential\n",
    "from torch.utils.tensorboard import SummaryWriter\n",
    "\n",
    "class zzy(nn.Module):\n",
    "    def __init__(self):\n",
    "        super(zzy,self).__init__()\n",
    "        self.model1 = Sequential(\n",
    "             Conv2d(3,32,5,padding=2),\n",
    "             MaxPool2d(2),\n",
    "             Conv2d(32,32,5,stride=1,padding=2),\n",
    "             MaxPool2d(2),\n",
    "             Conv2d(32,64,5,stride=1,padding=2),\n",
    "             MaxPool2d(2),\n",
    "             Flatten(),\n",
    "             Linear(64*4*4,64),\n",
    "             Linear(64,10)\n",
    "        )\n",
    "        \n",
    " \n",
    "\n",
    "    def forward(self,x):\n",
    "       x = self.model1(x)\n",
    "       return x\n",
    "\n",
    "\n",
    "zzy1 =zzy()\n",
    "\n",
    "print(zzy1)\n",
    "\n",
    "input1 = torch.ones(64,3,32,32)\n",
    "\n",
    "output = zzy1(input1)\n",
    "\n",
    "print(output.shape)\n",
    "\n",
    "# 可视化\n",
    "writer = SummaryWriter('logs_seqss')\n",
    "writer.add_graph(zzy1,input1)\n",
    "writer.close()"
   ]
  }
 ],
 "metadata": {
  "kernelspec": {
   "display_name": "py312",
   "language": "python",
   "name": "python3"
  },
  "language_info": {
   "codemirror_mode": {
    "name": "ipython",
    "version": 3
   },
   "file_extension": ".py",
   "mimetype": "text/x-python",
   "name": "python",
   "nbconvert_exporter": "python",
   "pygments_lexer": "ipython3",
   "version": "3.12.8"
  }
 },
 "nbformat": 4,
 "nbformat_minor": 2
}
